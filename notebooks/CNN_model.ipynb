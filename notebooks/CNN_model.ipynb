{
 "cells": [
  {
   "cell_type": "code",
   "id": "initial_id",
   "metadata": {
    "collapsed": true,
    "ExecuteTime": {
     "end_time": "2024-04-15T13:24:34.771597Z",
     "start_time": "2024-04-15T13:24:31.698119Z"
    }
   },
   "source": [
    "import torch\n",
    "import torch.nn as nn\n",
    "import torch.optim as optim\n",
    "import datetime\n",
    "import matplotlib.pyplot as plt\n",
    "import seaborn as sns\n",
    "from sklearn.metrics import confusion_matrix, classification_report"
   ],
   "outputs": [],
   "execution_count": 1
  },
  {
   "metadata": {
    "ExecuteTime": {
     "end_time": "2024-04-13T14:43:17.650752Z",
     "start_time": "2024-04-13T14:43:14.484449Z"
    }
   },
   "cell_type": "code",
   "source": [
    "# Load the saved training, validation, and testing data loaders from files\n",
    "train_loader = torch.load(\"../data/train_loader.pt\")\n",
    "val_loader = torch.load(\"../data/val_loader.pt\")\n",
    "test_loader = torch.load(\"../data/test_loader.pt\")"
   ],
   "id": "26d67039555c9052",
   "outputs": [],
   "execution_count": 30
  },
  {
   "metadata": {
    "ExecuteTime": {
     "end_time": "2024-04-13T14:43:17.657416Z",
     "start_time": "2024-04-13T14:43:17.652227Z"
    }
   },
   "cell_type": "code",
   "source": [
    "# Define a neural network architecture with convolutional and fully connected layers\n",
    "class Net(nn.Module):\n",
    "    def __init__(self):\n",
    "        super().__init__()\n",
    "        # Define convolutional layers with ReLU activation functions and max-pooling layers\n",
    "        self.conv1 = nn.Conv2d(3, 32, kernel_size=3, padding=1)\n",
    "        self.act1 = nn.ReLU()\n",
    "        self.pool1 = nn.MaxPool2d(2)\n",
    "        self.conv2 = nn.Conv2d(32, 16, kernel_size=3, padding=1)\n",
    "        self.act2 = nn.ReLU()\n",
    "        self.pool2 = nn.MaxPool2d(2)\n",
    "        self.conv3 = nn.Conv2d(16, 8, kernel_size=3, padding=1)\n",
    "        self.act3 = nn.ReLU()\n",
    "        self.pool3 = nn.MaxPool2d(2)\n",
    "        self.conv4 = nn.Conv2d(8, 4, kernel_size=3, padding=1)\n",
    "        self.act4 = nn.ReLU()\n",
    "        self.pool4 = nn.MaxPool2d(2)\n",
    "        # Define fully connected layers\n",
    "        self.fc1 = nn.Linear(4 * 14 * 14, 32)\n",
    "        self.act5 = nn.ReLU()\n",
    "        self.fc2 = nn.Linear(32, 2)\n",
    "\n",
    "    def forward(self, x):\n",
    "        # Define the forward pass of the network\n",
    "        out = self.pool1(self.act1(self.conv1(x)))\n",
    "        out = self.pool2(self.act2(self.conv2(out)))\n",
    "        out = self.pool3(self.act3(self.conv3(out)))\n",
    "        out = self.pool4(self.act4(self.conv4(out)))\n",
    "        out = out.view(-1, 4 * 14 * 14)\n",
    "        out = self.act5(self.fc1(out))\n",
    "        out = self.fc2(out)\n",
    "\n",
    "        return out"
   ],
   "id": "22e3e347f6b559de",
   "outputs": [],
   "execution_count": 31
  },
  {
   "metadata": {
    "ExecuteTime": {
     "end_time": "2024-04-13T14:43:17.660161Z",
     "start_time": "2024-04-13T14:43:17.658194Z"
    }
   },
   "cell_type": "code",
   "source": [
    "# Initialize the PyTorch device to CUDA if available, otherwise defaults to CPU\n",
    "device = torch.device(\"cuda\" if torch.cuda.is_available() else torch.device(\"cpu\"))"
   ],
   "id": "c0c5418f6423137a",
   "outputs": [],
   "execution_count": 32
  },
  {
   "metadata": {
    "ExecuteTime": {
     "end_time": "2024-04-13T14:43:17.665602Z",
     "start_time": "2024-04-13T14:43:17.661260Z"
    }
   },
   "cell_type": "code",
   "source": [
    "def training_loop(n_epochs, model, criterion, optimizer, train_loader, val_loader):\n",
    "    train_losses = []  # List to store training losses\n",
    "    val_losses = []    # List to store validation losses (if val_loader is provided)\n",
    "    for epoch in range(1, n_epochs + 1):\n",
    "        loss_train = 0.0\n",
    "        for images, labels in train_loader:\n",
    "            images, labels = images.to(device), labels.to(device)  # Move data to the appropriate device\n",
    "            optimizer.zero_grad()  # Zero the gradients\n",
    "            outputs = model(images)  # Forward pass\n",
    "            loss = criterion(outputs, labels)  # Calculate the loss\n",
    "            loss.backward()  # Backward pass\n",
    "            optimizer.step()  # Update weights\n",
    "            loss_train += loss.item()  # Accumulate training loss\n",
    "\n",
    "        avg_loss_train = loss_train / len(train_loader)  # Calculate average training loss\n",
    "        train_losses.append(avg_loss_train)  # Append training loss to the list\n",
    "\n",
    "        if val_loader is not None:  # If validation data is provided\n",
    "            loss_val = 0.0\n",
    "            with torch.no_grad():  # Disable gradient calculation for validation\n",
    "                for val_images, val_labels in val_loader:\n",
    "                    val_images, val_labels = val_images.to(device), val_labels.to(device)  # Move validation data to device\n",
    "                    val_outputs = model(val_images)  # Forward pass on validation data\n",
    "                    loss_val += criterion(val_outputs, val_labels).item()  # Calculate validation loss\n",
    "            avg_val_loss = loss_val / len(val_loader)  # Calculate average validation loss\n",
    "            val_losses.append(avg_val_loss)  # Append validation loss to the list\n",
    "\n",
    "        # Print training and validation losses for each epoch\n",
    "        print('{} Epoch {}, Training loss: {:.4f}'.format(\n",
    "            datetime.datetime.now(), epoch, avg_loss_train))\n",
    "        if val_loader is not None:\n",
    "            print('{} Epoch {}, Validation loss: {:.4f}'.format(\n",
    "                datetime.datetime.now(), epoch, avg_val_loss))\n",
    "\n",
    "    return train_losses, val_losses  # Return training and validation losses"
   ],
   "id": "2a933d90f6b0d8a",
   "outputs": [],
   "execution_count": 33
  },
  {
   "metadata": {
    "ExecuteTime": {
     "end_time": "2024-04-13T14:43:17.673047Z",
     "start_time": "2024-04-13T14:43:17.669736Z"
    }
   },
   "cell_type": "code",
   "source": [
    "# Plot the training and validation loss curves using Matplotlib\n",
    "def plot_losses(train_losses, val_losses):\n",
    "    plt.plot(train_losses, label='Training loss')\n",
    "    plt.plot(val_losses, label='Validation loss')\n",
    "    plt.xlabel('Epochs')\n",
    "    plt.ylabel('Loss')\n",
    "    plt.legend()\n",
    "    plt.title('Loss Curve')\n",
    "    plt.show()"
   ],
   "id": "49322c6361e4d498",
   "outputs": [],
   "execution_count": 34
  },
  {
   "metadata": {
    "ExecuteTime": {
     "end_time": "2024-04-13T14:43:17.677460Z",
     "start_time": "2024-04-13T14:43:17.673892Z"
    }
   },
   "cell_type": "code",
   "source": [
    "# Set up parameters for training:\n",
    "n_epochs = 9\n",
    "model = Net()\n",
    "batch_size = 64\n",
    "criterion = nn.CrossEntropyLoss()\n",
    "learning_rate = 0.001\n",
    "optimizer = optim.RMSprop(model.parameters(), lr=learning_rate)"
   ],
   "id": "c197e8bd0ab86d0c",
   "outputs": [],
   "execution_count": 35
  },
  {
   "metadata": {
    "ExecuteTime": {
     "end_time": "2024-04-13T15:07:17.271991Z",
     "start_time": "2024-04-13T14:43:17.678051Z"
    }
   },
   "cell_type": "code",
   "source": "train_losses, val_losses = training_loop(n_epochs, model, criterion, optimizer, train_loader, val_loader)",
   "id": "f22d5cfe94e14fc8",
   "outputs": [
    {
     "name": "stdout",
     "output_type": "stream",
     "text": [
      "2024-04-13 21:45:57.765496 Epoch 1, Training loss: 0.4828\n",
      "2024-04-13 21:45:57.765638 Epoch 1, Validation loss: 0.3550\n",
      "2024-04-13 21:48:37.254911 Epoch 2, Training loss: 0.3523\n",
      "2024-04-13 21:48:37.255038 Epoch 2, Validation loss: 0.3157\n",
      "2024-04-13 21:51:18.577864 Epoch 3, Training loss: 0.3284\n",
      "2024-04-13 21:51:18.578001 Epoch 3, Validation loss: 0.3344\n",
      "2024-04-13 21:53:58.444265 Epoch 4, Training loss: 0.3076\n",
      "2024-04-13 21:53:58.444371 Epoch 4, Validation loss: 0.2886\n",
      "2024-04-13 21:56:36.715133 Epoch 5, Training loss: 0.2989\n",
      "2024-04-13 21:56:36.715271 Epoch 5, Validation loss: 0.3072\n",
      "2024-04-13 21:59:16.316041 Epoch 6, Training loss: 0.2886\n",
      "2024-04-13 21:59:16.316134 Epoch 6, Validation loss: 0.2848\n",
      "2024-04-13 22:01:56.732416 Epoch 7, Training loss: 0.2803\n",
      "2024-04-13 22:01:56.732512 Epoch 7, Validation loss: 0.4018\n",
      "2024-04-13 22:04:38.960495 Epoch 8, Training loss: 0.2742\n",
      "2024-04-13 22:04:38.960724 Epoch 8, Validation loss: 0.2788\n",
      "2024-04-13 22:07:17.269728 Epoch 9, Training loss: 0.2577\n",
      "2024-04-13 22:07:17.269853 Epoch 9, Validation loss: 0.2722\n"
     ]
    }
   ],
   "execution_count": 36
  },
  {
   "metadata": {
    "ExecuteTime": {
     "end_time": "2024-04-13T15:07:17.364614Z",
     "start_time": "2024-04-13T15:07:17.272684Z"
    }
   },
   "cell_type": "code",
   "source": "plot_losses(train_losses, val_losses)",
   "id": "8ad98e076edae290",
   "outputs": [
    {
     "data": {
      "text/plain": [
       "<Figure size 432x288 with 1 Axes>"
      ],
      "image/png": "[encoded data removed]"
     },
     "metadata": {
      "needs_background": "light"
     },
     "output_type": "display_data"
    }
   ],
   "execution_count": 37
  },
  {
   "metadata": {
    "ExecuteTime": {
     "end_time": "2024-04-13T15:07:30.546204Z",
     "start_time": "2024-04-13T15:07:17.365259Z"
    }
   },
   "cell_type": "code",
   "source": [
    "# Evaluate the trained model on the validation set and print validation loss and accuracy\n",
    "val_loss = 0.0\n",
    "correct = 0\n",
    "total = 0\n",
    "\n",
    "model.eval()\n",
    "with torch.no_grad():\n",
    "    for val_images, val_labels in val_loader:\n",
    "        val_images, val_labels = val_images.to(device), val_labels.to(device)\n",
    "        val_outputs = model(val_images)\n",
    "        val_loss += criterion(val_outputs, val_labels).item()\n",
    "        _, predicted = val_outputs.max(1)\n",
    "        total += val_labels.size(0)\n",
    "        correct += (predicted == val_labels).sum().item()\n",
    "\n",
    "print('Validation loss: {:.4f}'.format(val_loss / len(val_loader)))\n",
    "print('Validation accuracy: {:.2f}%'.format(100 * correct / total))"
   ],
   "id": "3c4f2b3743ce5ea2",
   "outputs": [
    {
     "name": "stdout",
     "output_type": "stream",
     "text": [
      "Validation loss: 0.2722\n",
      "Validation accuracy: 88.01%\n"
     ]
    }
   ],
   "execution_count": 38
  },
  {
   "metadata": {
    "ExecuteTime": {
     "end_time": "2024-04-13T15:07:41.742069Z",
     "start_time": "2024-04-13T15:07:30.547816Z"
    }
   },
   "cell_type": "code",
   "source": [
    "# Evaluate the trained model on the test set and print test loss and accuracy\n",
    "test_loss = 0.0\n",
    "correct = 0\n",
    "total = 0\n",
    "\n",
    "model.eval()\n",
    "with torch.no_grad():\n",
    "    for t_images, t_labels in test_loader:\n",
    "        t_images, t_labels = t_images.to(device), t_labels.to(device)\n",
    "        t_outputs = model(t_images)\n",
    "        test_loss += criterion(t_outputs, t_labels).item()\n",
    "        _, predicted = t_outputs.max(1)\n",
    "        total += t_labels.size(0)\n",
    "        correct += (predicted == t_labels).sum().item()\n",
    "\n",
    "print('Test loss: {:.4f}'.format(test_loss / len(test_loader)))\n",
    "print('Test accuracy: {:.2f}%'.format(100 * correct / total))"
   ],
   "id": "98c0c2fad8349fd7",
   "outputs": [
    {
     "name": "stdout",
     "output_type": "stream",
     "text": [
      "Test loss: 0.2904\n",
      "Test accuracy: 88.30%\n"
     ]
    }
   ],
   "execution_count": 39
  },
  {
   "metadata": {
    "ExecuteTime": {
     "end_time": "2024-04-13T15:07:52.875207Z",
     "start_time": "2024-04-13T15:07:41.742717Z"
    }
   },
   "cell_type": "code",
   "source": [
    "# # Use the trained model to make predictions on the test set and extract predicted classes\n",
    "model.eval()\n",
    "predictions = []\n",
    "test_labels = []\n",
    "with torch.no_grad():\n",
    "    for images, labels in test_loader:\n",
    "        outputs = model(images)\n",
    "        predictions.extend(outputs.tolist())\n",
    "        test_labels.extend(labels.tolist())\n",
    "\n",
    "probs = torch.tensor(predictions)\n",
    "predicted_classes = torch.argmax(probs, dim=1)"
   ],
   "id": "3f78a64479ba3a0c",
   "outputs": [],
   "execution_count": 40
  },
  {
   "metadata": {
    "ExecuteTime": {
     "end_time": "2024-04-13T15:07:52.882834Z",
     "start_time": "2024-04-13T15:07:52.875946Z"
    }
   },
   "cell_type": "code",
   "source": "print(classification_report(predicted_classes, test_labels))",
   "id": "2d30761ab2c906a5",
   "outputs": [
    {
     "name": "stdout",
     "output_type": "stream",
     "text": [
      "              precision    recall  f1-score   support\n",
      "\n",
      "           0       0.93      0.85      0.89      1100\n",
      "           1       0.83      0.93      0.88       900\n",
      "\n",
      "    accuracy                           0.88      2000\n",
      "   macro avg       0.88      0.89      0.88      2000\n",
      "weighted avg       0.89      0.88      0.88      2000\n",
      "\n"
     ]
    }
   ],
   "execution_count": 41
  },
  {
   "metadata": {},
   "cell_type": "code",
   "outputs": [],
   "execution_count": null,
   "source": "",
   "id": "e0f4134502c5e26a"
  },
  {
   "metadata": {
    "ExecuteTime": {
     "end_time": "2024-04-13T15:07:52.965227Z",
     "start_time": "2024-04-13T15:07:52.883408Z"
    }
   },
   "cell_type": "code",
   "source": [
    "conf_matrix = confusion_matrix(test_labels, predicted_classes)\n",
    "plt.figure(figsize=(8, 6))\n",
    "sns.heatmap(conf_matrix, annot=True, fmt='d', cmap='Blues')\n",
    "plt.xlabel('Predicted label')\n",
    "plt.ylabel('True label')\n",
    "plt.title('Confusion Matrix')\n",
    "plt.show()"
   ],
   "id": "ad9ec84efb732d71",
   "outputs": [
    {
     "data": {
      "text/plain": [
       "<Figure size 576x432 with 2 Axes>"
      ],
      "image/png": "[encoded data removed]"
     },
     "metadata": {
      "needs_background": "light"
     },
     "output_type": "display_data"
    }
   ],
   "execution_count": 42
  }
 ],
 "metadata": {
  "kernelspec": {
   "display_name": "Python 3",
   "language": "python",
   "name": "python3"
  },
  "language_info": {
   "codemirror_mode": {
    "name": "ipython",
    "version": 2
   },
   "file_extension": ".py",
   "mimetype": "text/x-python",
   "name": "python",
   "nbconvert_exporter": "python",
   "pygments_lexer": "ipython2",
   "version": "2.7.6"
  }
 },
 "nbformat": 4,
 "nbformat_minor": 5
}
