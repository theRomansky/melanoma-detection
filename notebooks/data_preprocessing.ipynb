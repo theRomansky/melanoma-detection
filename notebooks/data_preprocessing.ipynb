{
 "cells": [
  {
   "cell_type": "code",
   "id": "initial_id",
   "metadata": {
    "collapsed": true,
    "ExecuteTime": {
     "end_time": "2024-04-10T12:52:02.591204Z",
     "start_time": "2024-04-10T12:52:02.585466Z"
    }
   },
   "source": [
    "import torch\n",
    "import os\n",
    "import numpy as np\n",
    "from torch.utils.data import TensorDataset, DataLoader\n",
    "from PIL import Image\n",
    "from torchvision import transforms\n",
    "from sklearn.model_selection import train_test_split"
   ],
   "outputs": [],
   "execution_count": 36
  },
  {
   "metadata": {
    "ExecuteTime": {
     "end_time": "2024-04-10T12:52:03.456041Z",
     "start_time": "2024-04-10T12:52:03.450202Z"
    }
   },
   "cell_type": "code",
   "source": [
    "def get_shuffled_images(data_dir):\n",
    "    classes = os.listdir(data_dir)[1:]\n",
    "    data = []\n",
    "    for class_name in classes:\n",
    "        class_dir = os.path.join(data_dir, class_name)\n",
    "        class_label = 1 if class_name == 'Malignant' else 0\n",
    "        for img_name in os.listdir(class_dir):\n",
    "            image_path = os.path.join(class_dir, img_name)\n",
    "            image = np.array(Image.open(image_path))\n",
    "            label = class_label\n",
    "            data.append((image, label))\n",
    "    np.random.shuffle(data)\n",
    "    return data"
   ],
   "id": "c7eae0069cf6cf86",
   "outputs": [],
   "execution_count": 37
  },
  {
   "metadata": {
    "ExecuteTime": {
     "end_time": "2024-04-10T12:52:03.597828Z",
     "start_time": "2024-04-10T12:52:03.595439Z"
    }
   },
   "cell_type": "code",
   "source": [
    "data_train_dir = \"../data/train\"\n",
    "data_test_dir = \"../data/test\""
   ],
   "id": "e40a148044e6a283",
   "outputs": [],
   "execution_count": 38
  },
  {
   "metadata": {
    "ExecuteTime": {
     "end_time": "2024-04-10T12:52:12.764444Z",
     "start_time": "2024-04-10T12:52:03.753198Z"
    }
   },
   "cell_type": "code",
   "source": [
    "train_data = get_shuffled_images(data_train_dir)\n",
    "test_data = get_shuffled_images(data_test_dir)"
   ],
   "id": "ed2292ff21b75652",
   "outputs": [],
   "execution_count": 39
  },
  {
   "metadata": {
    "ExecuteTime": {
     "end_time": "2024-04-10T12:52:12.768082Z",
     "start_time": "2024-04-10T12:52:12.765426Z"
    }
   },
   "cell_type": "code",
   "source": [
    "for image, label in train_data[:15]:\n",
    "    print(f\"label: {label}\")"
   ],
   "id": "7d63f874135bf1c8",
   "outputs": [
    {
     "name": "stdout",
     "output_type": "stream",
     "text": [
      "label: 0\n",
      "label: 0\n",
      "label: 1\n",
      "label: 0\n",
      "label: 1\n",
      "label: 0\n",
      "label: 1\n",
      "label: 1\n",
      "label: 0\n",
      "label: 1\n",
      "label: 0\n",
      "label: 1\n",
      "label: 1\n",
      "label: 1\n",
      "label: 0\n"
     ]
    }
   ],
   "execution_count": 40
  },
  {
   "metadata": {
    "ExecuteTime": {
     "end_time": "2024-04-10T12:52:12.772298Z",
     "start_time": "2024-04-10T12:52:12.768621Z"
    }
   },
   "cell_type": "code",
   "source": [
    "transform = transforms.Compose([\n",
    "    transforms.ToTensor(),\n",
    "    transforms.Normalize(mean=[0.5, 0.5, 0.5], std=[0.5, 0.5, 0.5])\n",
    "])"
   ],
   "id": "5d8c624a85c70282",
   "outputs": [],
   "execution_count": 41
  },
  {
   "metadata": {
    "ExecuteTime": {
     "end_time": "2024-04-10T12:52:19.146149Z",
     "start_time": "2024-04-10T12:52:12.773520Z"
    }
   },
   "cell_type": "code",
   "source": [
    "transformed_train_data = [(transform(image), torch.tensor(label)) for image, label in train_data]\n",
    "transformed_test_data = [(transform(image), torch.tensor(label)) for image, label in test_data]"
   ],
   "id": "eca9dca9acc703be",
   "outputs": [],
   "execution_count": 42
  },
  {
   "metadata": {
    "ExecuteTime": {
     "end_time": "2024-04-10T12:52:23.339226Z",
     "start_time": "2024-04-10T12:52:19.147879Z"
    }
   },
   "cell_type": "code",
   "source": [
    "train_images = torch.stack([item[0] for item in transformed_train_data])\n",
    "train_labels = torch.stack([item[1] for item in transformed_train_data])\n",
    "test_images_tensor = torch.stack([item[0] for item in transformed_test_data])\n",
    "test_labels_tensor = torch.stack([item[1] for item in transformed_test_data])"
   ],
   "id": "37ba1e8504872bb1",
   "outputs": [],
   "execution_count": 43
  },
  {
   "metadata": {
    "ExecuteTime": {
     "end_time": "2024-04-10T12:52:27.672587Z",
     "start_time": "2024-04-10T12:52:23.340787Z"
    }
   },
   "cell_type": "code",
   "source": [
    "train_val_images_numpy = train_images.numpy()\n",
    "train_val_labels_numpy = train_labels.numpy()\n",
    "\n",
    "train_images_numpy, val_images_numpy, train_labels_numpy, val_labels_numpy = train_test_split(\n",
    "    train_val_images_numpy, \n",
    "    train_val_labels_numpy, \n",
    "    test_size=0.20, \n",
    "    random_state=42, \n",
    "    stratify=train_val_labels_numpy\n",
    ")"
   ],
   "id": "2d4460201789db9c",
   "outputs": [],
   "execution_count": 44
  },
  {
   "metadata": {
    "ExecuteTime": {
     "end_time": "2024-04-10T12:52:30.096205Z",
     "start_time": "2024-04-10T12:52:27.674221Z"
    }
   },
   "cell_type": "code",
   "source": [
    "train_images_tensor = torch.tensor(train_images_numpy)\n",
    "train_labels_tensor = torch.tensor(train_labels_numpy)\n",
    "val_images_tensor = torch.tensor(val_images_numpy)\n",
    "val_labels_tensor = torch.tensor(val_labels_numpy)"
   ],
   "id": "7c03284d5289e0e",
   "outputs": [],
   "execution_count": 45
  },
  {
   "metadata": {
    "ExecuteTime": {
     "end_time": "2024-04-10T12:54:30.019832Z",
     "start_time": "2024-04-10T12:54:30.007904Z"
    }
   },
   "cell_type": "code",
   "source": [
    "train_dataset = TensorDataset(train_images_tensor, train_labels_tensor)\n",
    "val_dataset = TensorDataset(val_images_tensor, val_labels_tensor)\n",
    "test_dataset = TensorDataset(test_images_tensor, test_labels_tensor)\n",
    "\n",
    "batch_size = 64\n",
    "\n",
    "train_loader = DataLoader(train_dataset, batch_size=batch_size, shuffle=True)\n",
    "val_loader = DataLoader(val_dataset, batch_size=batch_size)\n",
    "test_loader = DataLoader(test_dataset, batch_size=batch_size)"
   ],
   "id": "498f6d3deb0623ba",
   "outputs": [],
   "execution_count": 46
  },
  {
   "metadata": {
    "ExecuteTime": {
     "end_time": "2024-04-10T12:59:07.795624Z",
     "start_time": "2024-04-10T12:58:57.345746Z"
    }
   },
   "cell_type": "code",
   "source": [
    "torch.save(train_loader, \"../data/train_loader.pt\")\n",
    "torch.save(val_loader, \"../data/val_loader.pt\")\n",
    "torch.save(test_loader, \"../data/test_loader.pt\")"
   ],
   "id": "6826ad4b23d4de07",
   "outputs": [],
   "execution_count": 52
  },
  {
   "metadata": {},
   "cell_type": "code",
   "outputs": [],
   "execution_count": null,
   "source": "",
   "id": "cdd78fa537641e02"
  }
 ],
 "metadata": {
  "kernelspec": {
   "display_name": "Python 3",
   "language": "python",
   "name": "python3"
  },
  "language_info": {
   "codemirror_mode": {
    "name": "ipython",
    "version": 2
   },
   "file_extension": ".py",
   "mimetype": "text/x-python",
   "name": "python",
   "nbconvert_exporter": "python",
   "pygments_lexer": "ipython2",
   "version": "2.7.6"
  }
 },
 "nbformat": 4,
 "nbformat_minor": 5
}
